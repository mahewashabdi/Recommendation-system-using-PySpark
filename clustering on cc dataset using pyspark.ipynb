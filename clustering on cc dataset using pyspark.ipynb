{
 "cells": [
  {
   "cell_type": "code",
   "execution_count": 1,
   "metadata": {},
   "outputs": [],
   "source": [
    "import pyspark"
   ]
  },
  {
   "cell_type": "code",
   "execution_count": 3,
   "metadata": {},
   "outputs": [],
   "source": [
    "from pyspark.sql import SparkSession"
   ]
  },
  {
   "cell_type": "code",
   "execution_count": 4,
   "metadata": {},
   "outputs": [],
   "source": [
    "spark = SparkSession.builder.appName(\"cc_data\").getOrCreate()"
   ]
  },
  {
   "cell_type": "code",
   "execution_count": 5,
   "metadata": {},
   "outputs": [
    {
     "data": {
      "text/html": [
       "\n",
       "            <div>\n",
       "                <p><b>SparkSession - in-memory</b></p>\n",
       "                \n",
       "        <div>\n",
       "            <p><b>SparkContext</b></p>\n",
       "\n",
       "            <p><a href=\"http://192.168.1.7:4042\">Spark UI</a></p>\n",
       "\n",
       "            <dl>\n",
       "              <dt>Version</dt>\n",
       "                <dd><code>v3.1.2</code></dd>\n",
       "              <dt>Master</dt>\n",
       "                <dd><code>local[*]</code></dd>\n",
       "              <dt>AppName</dt>\n",
       "                <dd><code>cc_data</code></dd>\n",
       "            </dl>\n",
       "        </div>\n",
       "        \n",
       "            </div>\n",
       "        "
      ],
      "text/plain": [
       "<pyspark.sql.session.SparkSession at 0x1abc9205fc8>"
      ]
     },
     "execution_count": 5,
     "metadata": {},
     "output_type": "execute_result"
    }
   ],
   "source": [
    "spark"
   ]
  },
  {
   "cell_type": "code",
   "execution_count": 8,
   "metadata": {},
   "outputs": [],
   "source": [
    "df = spark.read.csv(\"CC GENERAL.csv\",header=True, inferSchema=True)"
   ]
  },
  {
   "cell_type": "code",
   "execution_count": 9,
   "metadata": {},
   "outputs": [
    {
     "name": "stdout",
     "output_type": "stream",
     "text": [
      "+-------+-----------+-----------------+---------+----------------+----------------------+------------+-------------------+--------------------------+--------------------------------+----------------------+----------------+-------------+------------+-----------+----------------+----------------+------+\n",
      "|CUST_ID|    BALANCE|BALANCE_FREQUENCY|PURCHASES|ONEOFF_PURCHASES|INSTALLMENTS_PURCHASES|CASH_ADVANCE|PURCHASES_FREQUENCY|ONEOFF_PURCHASES_FREQUENCY|PURCHASES_INSTALLMENTS_FREQUENCY|CASH_ADVANCE_FREQUENCY|CASH_ADVANCE_TRX|PURCHASES_TRX|CREDIT_LIMIT|   PAYMENTS|MINIMUM_PAYMENTS|PRC_FULL_PAYMENT|TENURE|\n",
      "+-------+-----------+-----------------+---------+----------------+----------------------+------------+-------------------+--------------------------+--------------------------------+----------------------+----------------+-------------+------------+-----------+----------------+----------------+------+\n",
      "| C10001|  40.900749|         0.818182|     95.4|             0.0|                  95.4|         0.0|           0.166667|                       0.0|                        0.083333|                   0.0|               0|            2|      1000.0| 201.802084|      139.509787|             0.0|    12|\n",
      "| C10002|3202.467416|         0.909091|      0.0|             0.0|                   0.0| 6442.945483|                0.0|                       0.0|                             0.0|                  0.25|               4|            0|      7000.0|4103.032597|     1072.340217|        0.222222|    12|\n",
      "| C10003|2495.148862|              1.0|   773.17|          773.17|                   0.0|         0.0|                1.0|                       1.0|                             0.0|                   0.0|               0|           12|      7500.0| 622.066742|      627.284787|             0.0|    12|\n",
      "| C10004|1666.670542|         0.636364|   1499.0|          1499.0|                   0.0|  205.788017|           0.083333|                  0.083333|                             0.0|              0.083333|               1|            1|      7500.0|        0.0|            null|             0.0|    12|\n",
      "| C10005| 817.714335|              1.0|     16.0|            16.0|                   0.0|         0.0|           0.083333|                  0.083333|                             0.0|                   0.0|               0|            1|      1200.0| 678.334763|      244.791237|             0.0|    12|\n",
      "| C10006|1809.828751|              1.0|  1333.28|             0.0|               1333.28|         0.0|           0.666667|                       0.0|                        0.583333|                   0.0|               0|            8|      1800.0| 1400.05777|     2407.246035|             0.0|    12|\n",
      "| C10007| 627.260806|              1.0|  7091.01|         6402.63|                688.38|         0.0|                1.0|                       1.0|                             1.0|                   0.0|               0|           64|     13500.0|6354.314328|      198.065894|             1.0|    12|\n",
      "| C10008|1823.652743|              1.0|    436.2|             0.0|                 436.2|         0.0|                1.0|                       0.0|                             1.0|                   0.0|               0|           12|      2300.0| 679.065082|       532.03399|             0.0|    12|\n",
      "| C10009|1014.926473|              1.0|   861.49|          661.49|                 200.0|         0.0|           0.333333|                  0.083333|                            0.25|                   0.0|               0|            5|      7000.0| 688.278568|      311.963409|             0.0|    12|\n",
      "| C10010| 152.225975|         0.545455|   1281.6|          1281.6|                   0.0|         0.0|           0.166667|                  0.166667|                             0.0|                   0.0|               0|            3|     11000.0|1164.770591|      100.302262|             0.0|    12|\n",
      "| C10011|1293.124939|              1.0|   920.12|             0.0|                920.12|         0.0|                1.0|                       0.0|                             1.0|                   0.0|               0|           12|      1200.0|1083.301007|     2172.697765|             0.0|    12|\n",
      "| C10012| 630.794744|         0.818182|  1492.18|         1492.18|                   0.0|         0.0|               0.25|                      0.25|                             0.0|                   0.0|               0|            6|      2000.0| 705.618627|      155.549069|             0.0|    12|\n",
      "| C10013| 1516.92862|              1.0|  3217.99|         2500.23|                717.76|         0.0|                1.0|                      0.25|                        0.916667|                   0.0|               0|           26|      3000.0| 608.263689|      490.207013|            0.25|    12|\n",
      "| C10014| 921.693369|              1.0|  2137.93|          419.96|               1717.97|         0.0|               0.75|                  0.166667|                            0.75|                   0.0|               0|           26|      7500.0|1655.891435|      251.137986|        0.083333|    12|\n",
      "| C10015|2772.772734|              1.0|      0.0|             0.0|                   0.0|   346.81139|                0.0|                       0.0|                             0.0|              0.083333|               1|            0|      3000.0| 805.647974|      989.962866|             0.0|    12|\n",
      "| C10016|6886.213231|              1.0|   1611.7|             0.0|                1611.7| 2301.491267|                0.5|                       0.0|                             0.5|              0.166667|               4|           11|      8000.0|1993.439277|      2109.90649|             0.0|    12|\n",
      "| C10017|2072.074354|            0.875|      0.0|             0.0|                   0.0| 2784.274703|                0.0|                       0.0|                             0.0|                  0.25|               3|            0|      3000.0| 391.974562|      376.579631|             0.0|     8|\n",
      "| C10018|  41.089489|         0.454545|    519.0|             0.0|                 519.0|         0.0|           0.416667|                       0.0|                        0.333333|                   0.0|               0|            8|      2500.0| 254.590662|       73.203221|            0.25|    12|\n",
      "| C10019|1989.072228|              1.0|   504.35|           166.0|                338.35|         0.0|           0.666667|                  0.083333|                        0.583333|                   0.0|               0|            9|     13000.0|1720.837373|      744.613395|             0.0|    12|\n",
      "| C10020|3577.970933|              1.0|   398.64|             0.0|                398.64|         0.0|                1.0|                       0.0|                             1.0|                   0.0|               0|           12|      4000.0|1053.980464|     12465.54938|             0.0|    12|\n",
      "+-------+-----------+-----------------+---------+----------------+----------------------+------------+-------------------+--------------------------+--------------------------------+----------------------+----------------+-------------+------------+-----------+----------------+----------------+------+\n",
      "only showing top 20 rows\n",
      "\n"
     ]
    }
   ],
   "source": [
    "df.show()"
   ]
  },
  {
   "cell_type": "code",
   "execution_count": 10,
   "metadata": {},
   "outputs": [
    {
     "name": "stdout",
     "output_type": "stream",
     "text": [
      "root\n",
      " |-- CUST_ID: string (nullable = true)\n",
      " |-- BALANCE: double (nullable = true)\n",
      " |-- BALANCE_FREQUENCY: double (nullable = true)\n",
      " |-- PURCHASES: double (nullable = true)\n",
      " |-- ONEOFF_PURCHASES: double (nullable = true)\n",
      " |-- INSTALLMENTS_PURCHASES: double (nullable = true)\n",
      " |-- CASH_ADVANCE: double (nullable = true)\n",
      " |-- PURCHASES_FREQUENCY: double (nullable = true)\n",
      " |-- ONEOFF_PURCHASES_FREQUENCY: double (nullable = true)\n",
      " |-- PURCHASES_INSTALLMENTS_FREQUENCY: double (nullable = true)\n",
      " |-- CASH_ADVANCE_FREQUENCY: double (nullable = true)\n",
      " |-- CASH_ADVANCE_TRX: integer (nullable = true)\n",
      " |-- PURCHASES_TRX: integer (nullable = true)\n",
      " |-- CREDIT_LIMIT: double (nullable = true)\n",
      " |-- PAYMENTS: double (nullable = true)\n",
      " |-- MINIMUM_PAYMENTS: double (nullable = true)\n",
      " |-- PRC_FULL_PAYMENT: double (nullable = true)\n",
      " |-- TENURE: integer (nullable = true)\n",
      "\n"
     ]
    }
   ],
   "source": [
    "df.printSchema()"
   ]
  },
  {
   "cell_type": "code",
   "execution_count": 22,
   "metadata": {},
   "outputs": [],
   "source": [
    "df = df.na.drop()"
   ]
  },
  {
   "cell_type": "code",
   "execution_count": 23,
   "metadata": {},
   "outputs": [],
   "source": [
    "from pyspark.ml.feature import VectorAssembler"
   ]
  },
  {
   "cell_type": "code",
   "execution_count": 24,
   "metadata": {},
   "outputs": [
    {
     "data": {
      "text/plain": [
       "['CUST_ID',\n",
       " 'BALANCE',\n",
       " 'BALANCE_FREQUENCY',\n",
       " 'PURCHASES',\n",
       " 'ONEOFF_PURCHASES',\n",
       " 'INSTALLMENTS_PURCHASES',\n",
       " 'CASH_ADVANCE',\n",
       " 'PURCHASES_FREQUENCY',\n",
       " 'ONEOFF_PURCHASES_FREQUENCY',\n",
       " 'PURCHASES_INSTALLMENTS_FREQUENCY',\n",
       " 'CASH_ADVANCE_FREQUENCY',\n",
       " 'CASH_ADVANCE_TRX',\n",
       " 'PURCHASES_TRX',\n",
       " 'CREDIT_LIMIT',\n",
       " 'PAYMENTS',\n",
       " 'MINIMUM_PAYMENTS',\n",
       " 'PRC_FULL_PAYMENT',\n",
       " 'TENURE']"
      ]
     },
     "execution_count": 24,
     "metadata": {},
     "output_type": "execute_result"
    }
   ],
   "source": [
    "df.columns "
   ]
  },
  {
   "cell_type": "code",
   "execution_count": 25,
   "metadata": {},
   "outputs": [
    {
     "data": {
      "text/plain": [
       "['BALANCE',\n",
       " 'BALANCE_FREQUENCY',\n",
       " 'PURCHASES',\n",
       " 'ONEOFF_PURCHASES',\n",
       " 'INSTALLMENTS_PURCHASES',\n",
       " 'CASH_ADVANCE',\n",
       " 'PURCHASES_FREQUENCY',\n",
       " 'ONEOFF_PURCHASES_FREQUENCY',\n",
       " 'PURCHASES_INSTALLMENTS_FREQUENCY',\n",
       " 'CASH_ADVANCE_FREQUENCY',\n",
       " 'CASH_ADVANCE_TRX',\n",
       " 'PURCHASES_TRX',\n",
       " 'CREDIT_LIMIT',\n",
       " 'PAYMENTS',\n",
       " 'MINIMUM_PAYMENTS',\n",
       " 'PRC_FULL_PAYMENT',\n",
       " 'TENURE']"
      ]
     },
     "execution_count": 25,
     "metadata": {},
     "output_type": "execute_result"
    }
   ],
   "source": [
    "## cols to be used for training\n",
    "cols_ = [i for i in df.columns if i!=\"CUST_ID\"]\n",
    "cols_"
   ]
  },
  {
   "cell_type": "code",
   "execution_count": 26,
   "metadata": {},
   "outputs": [],
   "source": [
    "featureassembler = VectorAssembler(inputCols=cols_,outputCol=\"independent features\")"
   ]
  },
  {
   "cell_type": "code",
   "execution_count": 27,
   "metadata": {},
   "outputs": [
    {
     "name": "stdout",
     "output_type": "stream",
     "text": [
      "+-------+-----------+-----------------+---------+----------------+----------------------+------------+-------------------+--------------------------+--------------------------------+----------------------+----------------+-------------+------------+-----------+----------------+----------------+------+--------------------+\n",
      "|CUST_ID|    BALANCE|BALANCE_FREQUENCY|PURCHASES|ONEOFF_PURCHASES|INSTALLMENTS_PURCHASES|CASH_ADVANCE|PURCHASES_FREQUENCY|ONEOFF_PURCHASES_FREQUENCY|PURCHASES_INSTALLMENTS_FREQUENCY|CASH_ADVANCE_FREQUENCY|CASH_ADVANCE_TRX|PURCHASES_TRX|CREDIT_LIMIT|   PAYMENTS|MINIMUM_PAYMENTS|PRC_FULL_PAYMENT|TENURE|independent features|\n",
      "+-------+-----------+-----------------+---------+----------------+----------------------+------------+-------------------+--------------------------+--------------------------------+----------------------+----------------+-------------+------------+-----------+----------------+----------------+------+--------------------+\n",
      "| C10001|  40.900749|         0.818182|     95.4|             0.0|                  95.4|         0.0|           0.166667|                       0.0|                        0.083333|                   0.0|               0|            2|      1000.0| 201.802084|      139.509787|             0.0|    12|[40.900749,0.8181...|\n",
      "| C10002|3202.467416|         0.909091|      0.0|             0.0|                   0.0| 6442.945483|                0.0|                       0.0|                             0.0|                  0.25|               4|            0|      7000.0|4103.032597|     1072.340217|        0.222222|    12|(17,[0,1,5,9,10,1...|\n",
      "| C10003|2495.148862|              1.0|   773.17|          773.17|                   0.0|         0.0|                1.0|                       1.0|                             0.0|                   0.0|               0|           12|      7500.0| 622.066742|      627.284787|             0.0|    12|[2495.148862,1.0,...|\n",
      "| C10005| 817.714335|              1.0|     16.0|            16.0|                   0.0|         0.0|           0.083333|                  0.083333|                             0.0|                   0.0|               0|            1|      1200.0| 678.334763|      244.791237|             0.0|    12|[817.714335,1.0,1...|\n",
      "| C10006|1809.828751|              1.0|  1333.28|             0.0|               1333.28|         0.0|           0.666667|                       0.0|                        0.583333|                   0.0|               0|            8|      1800.0| 1400.05777|     2407.246035|             0.0|    12|[1809.828751,1.0,...|\n",
      "| C10007| 627.260806|              1.0|  7091.01|         6402.63|                688.38|         0.0|                1.0|                       1.0|                             1.0|                   0.0|               0|           64|     13500.0|6354.314328|      198.065894|             1.0|    12|[627.260806,1.0,7...|\n",
      "| C10008|1823.652743|              1.0|    436.2|             0.0|                 436.2|         0.0|                1.0|                       0.0|                             1.0|                   0.0|               0|           12|      2300.0| 679.065082|       532.03399|             0.0|    12|[1823.652743,1.0,...|\n",
      "| C10009|1014.926473|              1.0|   861.49|          661.49|                 200.0|         0.0|           0.333333|                  0.083333|                            0.25|                   0.0|               0|            5|      7000.0| 688.278568|      311.963409|             0.0|    12|[1014.926473,1.0,...|\n",
      "| C10010| 152.225975|         0.545455|   1281.6|          1281.6|                   0.0|         0.0|           0.166667|                  0.166667|                             0.0|                   0.0|               0|            3|     11000.0|1164.770591|      100.302262|             0.0|    12|[152.225975,0.545...|\n",
      "| C10011|1293.124939|              1.0|   920.12|             0.0|                920.12|         0.0|                1.0|                       0.0|                             1.0|                   0.0|               0|           12|      1200.0|1083.301007|     2172.697765|             0.0|    12|[1293.124939,1.0,...|\n",
      "| C10012| 630.794744|         0.818182|  1492.18|         1492.18|                   0.0|         0.0|               0.25|                      0.25|                             0.0|                   0.0|               0|            6|      2000.0| 705.618627|      155.549069|             0.0|    12|[630.794744,0.818...|\n",
      "| C10013| 1516.92862|              1.0|  3217.99|         2500.23|                717.76|         0.0|                1.0|                      0.25|                        0.916667|                   0.0|               0|           26|      3000.0| 608.263689|      490.207013|            0.25|    12|[1516.92862,1.0,3...|\n",
      "| C10014| 921.693369|              1.0|  2137.93|          419.96|               1717.97|         0.0|               0.75|                  0.166667|                            0.75|                   0.0|               0|           26|      7500.0|1655.891435|      251.137986|        0.083333|    12|[921.693369,1.0,2...|\n",
      "| C10015|2772.772734|              1.0|      0.0|             0.0|                   0.0|   346.81139|                0.0|                       0.0|                             0.0|              0.083333|               1|            0|      3000.0| 805.647974|      989.962866|             0.0|    12|(17,[0,1,5,9,10,1...|\n",
      "| C10016|6886.213231|              1.0|   1611.7|             0.0|                1611.7| 2301.491267|                0.5|                       0.0|                             0.5|              0.166667|               4|           11|      8000.0|1993.439277|      2109.90649|             0.0|    12|[6886.213231,1.0,...|\n",
      "| C10017|2072.074354|            0.875|      0.0|             0.0|                   0.0| 2784.274703|                0.0|                       0.0|                             0.0|                  0.25|               3|            0|      3000.0| 391.974562|      376.579631|             0.0|     8|(17,[0,1,5,9,10,1...|\n",
      "| C10018|  41.089489|         0.454545|    519.0|             0.0|                 519.0|         0.0|           0.416667|                       0.0|                        0.333333|                   0.0|               0|            8|      2500.0| 254.590662|       73.203221|            0.25|    12|[41.089489,0.4545...|\n",
      "| C10019|1989.072228|              1.0|   504.35|           166.0|                338.35|         0.0|           0.666667|                  0.083333|                        0.583333|                   0.0|               0|            9|     13000.0|1720.837373|      744.613395|             0.0|    12|[1989.072228,1.0,...|\n",
      "| C10020|3577.970933|              1.0|   398.64|             0.0|                398.64|         0.0|                1.0|                       0.0|                             1.0|                   0.0|               0|           12|      4000.0|1053.980464|     12465.54938|             0.0|    12|[3577.970933,1.0,...|\n",
      "| C10021|2016.684686|              1.0|   176.68|             0.0|                176.68|         0.0|           0.666667|                       0.0|                        0.666667|                   0.0|               0|            8|      2000.0|   223.0686|     13557.29726|             0.0|    12|[2016.684686,1.0,...|\n",
      "+-------+-----------+-----------------+---------+----------------+----------------------+------------+-------------------+--------------------------+--------------------------------+----------------------+----------------+-------------+------------+-----------+----------------+----------------+------+--------------------+\n",
      "only showing top 20 rows\n",
      "\n"
     ]
    }
   ],
   "source": [
    "output = featureassembler.transform(df)\n",
    "output.show()"
   ]
  },
  {
   "cell_type": "code",
   "execution_count": 28,
   "metadata": {},
   "outputs": [],
   "source": [
    "from pyspark.ml.feature import StandardScaler\n",
    "\n"
   ]
  },
  {
   "cell_type": "code",
   "execution_count": 34,
   "metadata": {},
   "outputs": [
    {
     "name": "stdout",
     "output_type": "stream",
     "text": [
      "+-------+-----------+-----------------+---------+----------------+----------------------+------------+-------------------+--------------------------+--------------------------------+----------------------+----------------+-------------+------------+-----------+----------------+----------------+------+--------------------+--------------------+\n",
      "|CUST_ID|    BALANCE|BALANCE_FREQUENCY|PURCHASES|ONEOFF_PURCHASES|INSTALLMENTS_PURCHASES|CASH_ADVANCE|PURCHASES_FREQUENCY|ONEOFF_PURCHASES_FREQUENCY|PURCHASES_INSTALLMENTS_FREQUENCY|CASH_ADVANCE_FREQUENCY|CASH_ADVANCE_TRX|PURCHASES_TRX|CREDIT_LIMIT|   PAYMENTS|MINIMUM_PAYMENTS|PRC_FULL_PAYMENT|TENURE|independent features|        standardized|\n",
      "+-------+-----------+-----------------+---------+----------------+----------------------+------------+-------------------+--------------------------+--------------------------------+----------------------+----------------+-------------+------------+-----------+----------------+----------------+------+--------------------+--------------------+\n",
      "| C10001|  40.900749|         0.818182|     95.4|             0.0|                  95.4|         0.0|           0.166667|                       0.0|                        0.083333|                   0.0|               0|            2|      1000.0| 201.802084|      139.509787|             0.0|    12|[40.900749,0.8181...|[0.01951770812869...|\n",
      "| C10002|3202.467416|         0.909091|      0.0|             0.0|                   0.0| 6442.945483|                0.0|                       0.0|                             0.0|                  0.25|               4|            0|      7000.0|4103.032597|     1072.340217|        0.222222|    12|(17,[0,1,5,9,10,1...|(17,[0,1,5,9,10,1...|\n",
      "| C10003|2495.148862|              1.0|   773.17|          773.17|                   0.0|         0.0|                1.0|                       1.0|                             0.0|                   0.0|               0|           12|      7500.0| 622.066742|      627.284787|             0.0|    12|[2495.148862,1.0,...|[1.19067714936384...|\n",
      "| C10005| 817.714335|              1.0|     16.0|            16.0|                   0.0|         0.0|           0.083333|                  0.083333|                             0.0|                   0.0|               0|            1|      1200.0| 678.334763|      244.791237|             0.0|    12|[817.714335,1.0,1...|[0.39021069573032...|\n",
      "| C10006|1809.828751|              1.0|  1333.28|             0.0|               1333.28|         0.0|           0.666667|                       0.0|                        0.583333|                   0.0|               0|            8|      1800.0| 1400.05777|     2407.246035|             0.0|    12|[1809.828751,1.0,...|[0.86364455880605...|\n",
      "| C10007| 627.260806|              1.0|  7091.01|         6402.63|                688.38|         0.0|                1.0|                       1.0|                             1.0|                   0.0|               0|           64|     13500.0|6354.314328|      198.065894|             1.0|    12|[627.260806,1.0,7...|[0.29932687374696...|\n",
      "| C10008|1823.652743|              1.0|    436.2|             0.0|                 436.2|         0.0|                1.0|                       0.0|                             1.0|                   0.0|               0|           12|      2300.0| 679.065082|       532.03399|             0.0|    12|[1823.652743,1.0,...|[0.87024132408850...|\n",
      "| C10009|1014.926473|              1.0|   861.49|          661.49|                 200.0|         0.0|           0.333333|                  0.083333|                            0.25|                   0.0|               0|            5|      7000.0| 688.278568|      311.963409|             0.0|    12|[1014.926473,1.0,...|[0.48431970456340...|\n",
      "| C10010| 152.225975|         0.545455|   1281.6|          1281.6|                   0.0|         0.0|           0.166667|                  0.166667|                             0.0|                   0.0|               0|            3|     11000.0|1164.770591|      100.302262|             0.0|    12|[152.225975,0.545...|[0.07264175405825...|\n",
      "| C10011|1293.124939|              1.0|   920.12|             0.0|                920.12|         0.0|                1.0|                       0.0|                             1.0|                   0.0|               0|           12|      1200.0|1083.301007|     2172.697765|             0.0|    12|[1293.124939,1.0,...|[0.61707513310675...|\n",
      "| C10012| 630.794744|         0.818182|  1492.18|         1492.18|                   0.0|         0.0|               0.25|                      0.25|                             0.0|                   0.0|               0|            6|      2000.0| 705.618627|      155.549069|             0.0|    12|[630.794744,0.818...|[0.30101325778919...|\n",
      "| C10013| 1516.92862|              1.0|  3217.99|         2500.23|                717.76|         0.0|                1.0|                      0.25|                        0.916667|                   0.0|               0|           26|      3000.0| 608.263689|      490.207013|            0.25|    12|[1516.92862,1.0,3...|[0.72387354219911...|\n",
      "| C10014| 921.693369|              1.0|  2137.93|          419.96|               1717.97|         0.0|               0.75|                  0.166667|                            0.75|                   0.0|               0|           26|      7500.0|1655.891435|      251.137986|        0.083333|    12|[921.693369,1.0,2...|[0.43982916206002...|\n",
      "| C10015|2772.772734|              1.0|      0.0|             0.0|                   0.0|   346.81139|                0.0|                       0.0|                             0.0|              0.083333|               1|            0|      3000.0| 805.647974|      989.962866|             0.0|    12|(17,[0,1,5,9,10,1...|(17,[0,1,5,9,10,1...|\n",
      "| C10016|6886.213231|              1.0|   1611.7|             0.0|                1611.7| 2301.491267|                0.5|                       0.0|                             0.5|              0.166667|               4|           11|      8000.0|1993.439277|      2109.90649|             0.0|    12|[6886.213231,1.0,...|[3.28607918536232...|\n",
      "| C10017|2072.074354|            0.875|      0.0|             0.0|                   0.0| 2784.274703|                0.0|                       0.0|                             0.0|                  0.25|               3|            0|      3000.0| 391.974562|      376.579631|             0.0|     8|(17,[0,1,5,9,10,1...|(17,[0,1,5,9,10,1...|\n",
      "| C10018|  41.089489|         0.454545|    519.0|             0.0|                 519.0|         0.0|           0.416667|                       0.0|                        0.333333|                   0.0|               0|            8|      2500.0| 254.590662|       73.203221|            0.25|    12|[41.089489,0.4545...|[0.01960777426005...|\n",
      "| C10019|1989.072228|              1.0|   504.35|           166.0|                338.35|         0.0|           0.666667|                  0.083333|                        0.583333|                   0.0|               0|            9|     13000.0|1720.837373|      744.613395|             0.0|    12|[1989.072228,1.0,...|[0.94917897941186...|\n",
      "| C10020|3577.970933|              1.0|   398.64|             0.0|                398.64|         0.0|                1.0|                       0.0|                             1.0|                   0.0|               0|           12|      4000.0|1053.980464|     12465.54938|             0.0|    12|[3577.970933,1.0,...|[1.70739641866351...|\n",
      "| C10021|2016.684686|              1.0|   176.68|             0.0|                176.68|         0.0|           0.666667|                       0.0|                        0.666667|                   0.0|               0|            8|      2000.0|   223.0686|     13557.29726|             0.0|    12|[2016.684686,1.0,...|[0.96235555708187...|\n",
      "+-------+-----------+-----------------+---------+----------------+----------------------+------------+-------------------+--------------------------+--------------------------------+----------------------+----------------+-------------+------------+-----------+----------------+----------------+------+--------------------+--------------------+\n",
      "only showing top 20 rows\n",
      "\n"
     ]
    }
   ],
   "source": [
    "scale = StandardScaler(inputCol=\"independent features\",outputCol=\"standardized\")\n",
    "df_scale = scale.fit(output)\n",
    "df_scale_out = df_scale.transform(output)\n",
    "df_scale_out.show()"
   ]
  },
  {
   "cell_type": "code",
   "execution_count": 32,
   "metadata": {},
   "outputs": [],
   "source": [
    "from pyspark.ml.clustering import KMeans\n",
    "from pyspark.ml.evaluation import ClusteringEvaluator"
   ]
  },
  {
   "cell_type": "code",
   "execution_count": 80,
   "metadata": {},
   "outputs": [
    {
     "data": {
      "text/plain": [
       "['CUST_ID',\n",
       " 'BALANCE',\n",
       " 'BALANCE_FREQUENCY',\n",
       " 'PURCHASES',\n",
       " 'ONEOFF_PURCHASES',\n",
       " 'INSTALLMENTS_PURCHASES',\n",
       " 'CASH_ADVANCE',\n",
       " 'PURCHASES_FREQUENCY',\n",
       " 'ONEOFF_PURCHASES_FREQUENCY',\n",
       " 'PURCHASES_INSTALLMENTS_FREQUENCY',\n",
       " 'CASH_ADVANCE_FREQUENCY',\n",
       " 'CASH_ADVANCE_TRX',\n",
       " 'PURCHASES_TRX',\n",
       " 'CREDIT_LIMIT',\n",
       " 'PAYMENTS',\n",
       " 'MINIMUM_PAYMENTS',\n",
       " 'PRC_FULL_PAYMENT',\n",
       " 'TENURE',\n",
       " 'independent features',\n",
       " 'standardized']"
      ]
     },
     "execution_count": 80,
     "metadata": {},
     "output_type": "execute_result"
    }
   ],
   "source": [
    "df_scale_out.columns"
   ]
  },
  {
   "cell_type": "code",
   "execution_count": 45,
   "metadata": {},
   "outputs": [
    {
     "name": "stdout",
     "output_type": "stream",
     "text": [
      "Silhoute Score:  0.2902206470897065\n",
      "Silhoute Score:  0.2730998192853565\n",
      "Silhoute Score:  0.28239325551728617\n",
      "Silhoute Score:  0.27938553636939534\n",
      "Silhoute Score:  0.28197086371378494\n",
      "Silhoute Score:  0.27414928778364017\n",
      "Silhoute Score:  0.3075488326552787\n",
      "Silhoute Score:  0.2922934701939621\n"
     ]
    }
   ],
   "source": [
    "evaluator = ClusteringEvaluator(predictionCol='prediction', featuresCol = 'standardized',\n",
    "                               metricName=\"silhouette\", distanceMeasure =\"squaredEuclidean\")\n",
    "\n",
    "silhouette_score  = []\n",
    "for i in range(2,10):\n",
    "    kmeans = KMeans(featuresCol=\"standardized\", k=i)\n",
    "    kmeans_fit = kmeans.fit(df_scale_out)\n",
    "    output = kmeans_fit.transform(df_scale_out)\n",
    "    score = evaluator.evaluate(output)\n",
    "    silhouette_score.append(score)\n",
    "    print(\"Silhoute Score: \", score )"
   ]
  },
  {
   "cell_type": "code",
   "execution_count": 46,
   "metadata": {},
   "outputs": [],
   "source": [
    "# !pip install matplotlib\n",
    "import matplotlib.pyplot as plt"
   ]
  },
  {
   "cell_type": "code",
   "execution_count": 47,
   "metadata": {},
   "outputs": [
    {
     "data": {
      "text/plain": [
       "Text(0, 0.5, 'cost')"
      ]
     },
     "execution_count": 47,
     "metadata": {},
     "output_type": "execute_result"
    },
    {
     "data": {
      "image/png": "[encoded data removed]",
      "text/plain": [
       "<Figure size 576x432 with 1 Axes>"
      ]
     },
     "metadata": {
      "needs_background": "light"
     },
     "output_type": "display_data"
    }
   ],
   "source": [
    "#Visualizing the silhouette scores in a plot\n",
    "import matplotlib.pyplot as plt\n",
    "fig, ax = plt.subplots(1,1, figsize =(8,6))\n",
    "ax.plot(range(2,10),silhouette_score)\n",
    "ax.set_xlabel('k')\n",
    "ax.set_ylabel('cost')"
   ]
  },
  {
   "cell_type": "markdown",
   "metadata": {},
   "source": [
    "#### live stream data"
   ]
  },
  {
   "cell_type": "code",
   "execution_count": 49,
   "metadata": {},
   "outputs": [
    {
     "name": "stdout",
     "output_type": "stream",
     "text": [
      "+--------------------+-----------+----------------+-------------+------------+----------+---------+---------+--------+---------+--------+----------+-------+-------+-------+-------+\n",
      "|           status_id|status_type|status_published|num_reactions|num_comments|num_shares|num_likes|num_loves|num_wows|num_hahas|num_sads|num_angrys|Column1|Column2|Column3|Column4|\n",
      "+--------------------+-----------+----------------+-------------+------------+----------+---------+---------+--------+---------+--------+----------+-------+-------+-------+-------+\n",
      "|246675545449582_1...|      video|  4/22/2018 6:00|          529|         512|       262|      432|       92|       3|        1|       1|         0|   null|   null|   null|   null|\n",
      "|246675545449582_1...|      photo| 4/21/2018 22:45|          150|           0|         0|      150|        0|       0|        0|       0|         0|   null|   null|   null|   null|\n",
      "|246675545449582_1...|      video|  4/21/2018 6:17|          227|         236|        57|      204|       21|       1|        1|       0|         0|   null|   null|   null|   null|\n",
      "|246675545449582_1...|      photo|  4/21/2018 2:29|          111|           0|         0|      111|        0|       0|        0|       0|         0|   null|   null|   null|   null|\n",
      "|246675545449582_1...|      photo|  4/18/2018 3:22|          213|           0|         0|      204|        9|       0|        0|       0|         0|   null|   null|   null|   null|\n",
      "|246675545449582_1...|      photo|  4/18/2018 2:14|          217|           6|         0|      211|        5|       1|        0|       0|         0|   null|   null|   null|   null|\n",
      "|246675545449582_1...|      video|  4/18/2018 0:24|          503|         614|        72|      418|       70|      10|        2|       0|         3|   null|   null|   null|   null|\n",
      "|246675545449582_1...|      video|  4/17/2018 7:42|          295|         453|        53|      260|       32|       1|        1|       0|         1|   null|   null|   null|   null|\n",
      "|246675545449582_1...|      photo|  4/17/2018 3:33|          203|           1|         0|      198|        5|       0|        0|       0|         0|   null|   null|   null|   null|\n",
      "|246675545449582_1...|      photo|  4/11/2018 4:53|          170|           9|         1|      167|        3|       0|        0|       0|         0|   null|   null|   null|   null|\n",
      "|246675545449582_1...|      photo|  4/10/2018 1:01|          210|           2|         3|      202|        7|       1|        0|       0|         0|   null|   null|   null|   null|\n",
      "|246675545449582_1...|      photo|   4/9/2018 2:06|          222|           4|         0|      213|        5|       4|        0|       0|         0|   null|   null|   null|   null|\n",
      "|246675545449582_1...|      photo|   4/8/2018 5:10|          313|           4|         2|      305|        6|       2|        0|       0|         0|   null|   null|   null|   null|\n",
      "|246675545449582_1...|      photo|   4/8/2018 2:23|          209|           4|         0|      200|        8|       1|        0|       0|         0|   null|   null|   null|   null|\n",
      "|246675545449582_1...|      photo|   4/5/2018 9:23|          346|          11|         0|      335|       10|       1|        0|       0|         0|   null|   null|   null|   null|\n",
      "|246675545449582_1...|      video|   4/1/2018 5:16|          332|         100|        30|      303|       23|       1|        5|       0|         0|   null|   null|   null|   null|\n",
      "|246675545449582_1...|      video|  3/30/2018 8:28|          135|         256|        79|      117|       18|       0|        0|       0|         0|   null|   null|   null|   null|\n",
      "|246675545449582_1...|      video|  3/26/2018 8:28|          150|         173|        47|      132|       16|       1|        0|       1|         0|   null|   null|   null|   null|\n",
      "|246675545449582_1...|      video|  3/23/2018 7:09|          221|         166|        36|      192|       28|       0|        1|       0|         0|   null|   null|   null|   null|\n",
      "|246675545449582_1...|      photo|  3/22/2018 1:25|          152|           2|         0|      149|        3|       0|        0|       0|         0|   null|   null|   null|   null|\n",
      "+--------------------+-----------+----------------+-------------+------------+----------+---------+---------+--------+---------+--------+----------+-------+-------+-------+-------+\n",
      "only showing top 20 rows\n",
      "\n"
     ]
    }
   ],
   "source": [
    "dataset = spark.read.csv(\"LiveTV_Stream.csv\",header=True,inferSchema=True)\n",
    "dataset.show()"
   ]
  },
  {
   "cell_type": "code",
   "execution_count": 50,
   "metadata": {},
   "outputs": [
    {
     "name": "stdout",
     "output_type": "stream",
     "text": [
      "root\n",
      " |-- status_id: string (nullable = true)\n",
      " |-- status_type: string (nullable = true)\n",
      " |-- status_published: string (nullable = true)\n",
      " |-- num_reactions: integer (nullable = true)\n",
      " |-- num_comments: integer (nullable = true)\n",
      " |-- num_shares: integer (nullable = true)\n",
      " |-- num_likes: integer (nullable = true)\n",
      " |-- num_loves: integer (nullable = true)\n",
      " |-- num_wows: integer (nullable = true)\n",
      " |-- num_hahas: integer (nullable = true)\n",
      " |-- num_sads: integer (nullable = true)\n",
      " |-- num_angrys: integer (nullable = true)\n",
      " |-- Column1: string (nullable = true)\n",
      " |-- Column2: string (nullable = true)\n",
      " |-- Column3: string (nullable = true)\n",
      " |-- Column4: string (nullable = true)\n",
      "\n"
     ]
    }
   ],
   "source": [
    "dataset.printSchema()"
   ]
  },
  {
   "cell_type": "code",
   "execution_count": 54,
   "metadata": {},
   "outputs": [
    {
     "name": "stdout",
     "output_type": "stream",
     "text": [
      "+--------------------+-----------+----------------+-------------+------------+----------+---------+---------+--------+---------+--------+----------+-------+-------+-------+-------+\n",
      "|           status_id|status_type|status_published|num_reactions|num_comments|num_shares|num_likes|num_loves|num_wows|num_hahas|num_sads|num_angrys|Column1|Column2|Column3|Column4|\n",
      "+--------------------+-----------+----------------+-------------+------------+----------+---------+---------+--------+---------+--------+----------+-------+-------+-------+-------+\n",
      "|246675545449582_1...|      video|  4/22/2018 6:00|          529|         512|       262|      432|       92|       3|        1|       1|         0|   null|   null|   null|   null|\n",
      "|246675545449582_1...|      photo| 4/21/2018 22:45|          150|           0|         0|      150|        0|       0|        0|       0|         0|   null|   null|   null|   null|\n",
      "|246675545449582_1...|      video|  4/21/2018 6:17|          227|         236|        57|      204|       21|       1|        1|       0|         0|   null|   null|   null|   null|\n",
      "|246675545449582_1...|      photo|  4/21/2018 2:29|          111|           0|         0|      111|        0|       0|        0|       0|         0|   null|   null|   null|   null|\n",
      "|246675545449582_1...|      photo|  4/18/2018 3:22|          213|           0|         0|      204|        9|       0|        0|       0|         0|   null|   null|   null|   null|\n",
      "|246675545449582_1...|      photo|  4/18/2018 2:14|          217|           6|         0|      211|        5|       1|        0|       0|         0|   null|   null|   null|   null|\n",
      "|246675545449582_1...|      video|  4/18/2018 0:24|          503|         614|        72|      418|       70|      10|        2|       0|         3|   null|   null|   null|   null|\n",
      "|246675545449582_1...|      video|  4/17/2018 7:42|          295|         453|        53|      260|       32|       1|        1|       0|         1|   null|   null|   null|   null|\n",
      "|246675545449582_1...|      photo|  4/17/2018 3:33|          203|           1|         0|      198|        5|       0|        0|       0|         0|   null|   null|   null|   null|\n",
      "|246675545449582_1...|      photo|  4/11/2018 4:53|          170|           9|         1|      167|        3|       0|        0|       0|         0|   null|   null|   null|   null|\n",
      "|246675545449582_1...|      photo|  4/10/2018 1:01|          210|           2|         3|      202|        7|       1|        0|       0|         0|   null|   null|   null|   null|\n",
      "|246675545449582_1...|      photo|   4/9/2018 2:06|          222|           4|         0|      213|        5|       4|        0|       0|         0|   null|   null|   null|   null|\n",
      "|246675545449582_1...|      photo|   4/8/2018 5:10|          313|           4|         2|      305|        6|       2|        0|       0|         0|   null|   null|   null|   null|\n",
      "|246675545449582_1...|      photo|   4/8/2018 2:23|          209|           4|         0|      200|        8|       1|        0|       0|         0|   null|   null|   null|   null|\n",
      "|246675545449582_1...|      photo|   4/5/2018 9:23|          346|          11|         0|      335|       10|       1|        0|       0|         0|   null|   null|   null|   null|\n",
      "|246675545449582_1...|      video|   4/1/2018 5:16|          332|         100|        30|      303|       23|       1|        5|       0|         0|   null|   null|   null|   null|\n",
      "|246675545449582_1...|      video|  3/30/2018 8:28|          135|         256|        79|      117|       18|       0|        0|       0|         0|   null|   null|   null|   null|\n",
      "|246675545449582_1...|      video|  3/26/2018 8:28|          150|         173|        47|      132|       16|       1|        0|       1|         0|   null|   null|   null|   null|\n",
      "|246675545449582_1...|      video|  3/23/2018 7:09|          221|         166|        36|      192|       28|       0|        1|       0|         0|   null|   null|   null|   null|\n",
      "|246675545449582_1...|      photo|  3/22/2018 1:25|          152|           2|         0|      149|        3|       0|        0|       0|         0|   null|   null|   null|   null|\n",
      "+--------------------+-----------+----------------+-------------+------------+----------+---------+---------+--------+---------+--------+----------+-------+-------+-------+-------+\n",
      "only showing top 20 rows\n",
      "\n"
     ]
    }
   ],
   "source": [
    "dataset.show()"
   ]
  },
  {
   "cell_type": "code",
   "execution_count": 60,
   "metadata": {},
   "outputs": [
    {
     "data": {
      "text/plain": [
       "['status_id',\n",
       " 'status_type',\n",
       " 'status_published',\n",
       " 'num_reactions',\n",
       " 'num_comments',\n",
       " 'num_shares',\n",
       " 'num_likes',\n",
       " 'num_loves',\n",
       " 'num_wows',\n",
       " 'num_hahas',\n",
       " 'num_sads',\n",
       " 'num_angrys',\n",
       " 'Column1',\n",
       " 'Column2',\n",
       " 'Column3',\n",
       " 'Column4']"
      ]
     },
     "execution_count": 60,
     "metadata": {},
     "output_type": "execute_result"
    }
   ],
   "source": [
    "dataset.columns"
   ]
  },
  {
   "cell_type": "code",
   "execution_count": 62,
   "metadata": {},
   "outputs": [],
   "source": [
    "dataset = dataset.select(['status_id',\n",
    " 'status_type',\n",
    " 'status_published',\n",
    " 'num_reactions',\n",
    " 'num_comments',\n",
    " 'num_shares',\n",
    " 'num_likes',\n",
    " 'num_loves',\n",
    " 'num_wows',\n",
    " 'num_hahas',\n",
    " 'num_sads',\n",
    " 'num_angrys'])\n"
   ]
  },
  {
   "cell_type": "code",
   "execution_count": 70,
   "metadata": {},
   "outputs": [
    {
     "name": "stdout",
     "output_type": "stream",
     "text": [
      "root\n",
      " |-- status_id: string (nullable = true)\n",
      " |-- status_type: string (nullable = true)\n",
      " |-- status_published: string (nullable = true)\n",
      " |-- num_reactions: integer (nullable = true)\n",
      " |-- num_comments: integer (nullable = true)\n",
      " |-- num_shares: integer (nullable = true)\n",
      " |-- num_likes: integer (nullable = true)\n",
      " |-- num_loves: integer (nullable = true)\n",
      " |-- num_wows: integer (nullable = true)\n",
      " |-- num_hahas: integer (nullable = true)\n",
      " |-- num_sads: integer (nullable = true)\n",
      " |-- num_angrys: integer (nullable = true)\n",
      "\n"
     ]
    }
   ],
   "source": [
    "dataset.printSchema()"
   ]
  },
  {
   "cell_type": "code",
   "execution_count": 69,
   "metadata": {},
   "outputs": [
    {
     "data": {
      "text/plain": [
       "7050"
      ]
     },
     "execution_count": 69,
     "metadata": {},
     "output_type": "execute_result"
    }
   ],
   "source": [
    "h = dataset.na.drop()\n",
    "h.count()"
   ]
  },
  {
   "cell_type": "code",
   "execution_count": 73,
   "metadata": {},
   "outputs": [
    {
     "name": "stdout",
     "output_type": "stream",
     "text": [
      "+--------------------+-----------+----------------+-------------+------------+----------+---------+---------+--------+---------+--------+----------+--------------------+\n",
      "|           status_id|status_type|status_published|num_reactions|num_comments|num_shares|num_likes|num_loves|num_wows|num_hahas|num_sads|num_angrys|independent features|\n",
      "+--------------------+-----------+----------------+-------------+------------+----------+---------+---------+--------+---------+--------+----------+--------------------+\n",
      "|246675545449582_1...|      video|  4/22/2018 6:00|          529|         512|       262|      432|       92|       3|        1|       1|         0|[529.0,512.0,262....|\n",
      "|246675545449582_1...|      photo| 4/21/2018 22:45|          150|           0|         0|      150|        0|       0|        0|       0|         0|(9,[0,3],[150.0,1...|\n",
      "|246675545449582_1...|      video|  4/21/2018 6:17|          227|         236|        57|      204|       21|       1|        1|       0|         0|[227.0,236.0,57.0...|\n",
      "|246675545449582_1...|      photo|  4/21/2018 2:29|          111|           0|         0|      111|        0|       0|        0|       0|         0|(9,[0,3],[111.0,1...|\n",
      "|246675545449582_1...|      photo|  4/18/2018 3:22|          213|           0|         0|      204|        9|       0|        0|       0|         0|(9,[0,3,4],[213.0...|\n",
      "|246675545449582_1...|      photo|  4/18/2018 2:14|          217|           6|         0|      211|        5|       1|        0|       0|         0|[217.0,6.0,0.0,21...|\n",
      "|246675545449582_1...|      video|  4/18/2018 0:24|          503|         614|        72|      418|       70|      10|        2|       0|         3|[503.0,614.0,72.0...|\n",
      "|246675545449582_1...|      video|  4/17/2018 7:42|          295|         453|        53|      260|       32|       1|        1|       0|         1|[295.0,453.0,53.0...|\n",
      "|246675545449582_1...|      photo|  4/17/2018 3:33|          203|           1|         0|      198|        5|       0|        0|       0|         0|(9,[0,1,3,4],[203...|\n",
      "|246675545449582_1...|      photo|  4/11/2018 4:53|          170|           9|         1|      167|        3|       0|        0|       0|         0|[170.0,9.0,1.0,16...|\n",
      "|246675545449582_1...|      photo|  4/10/2018 1:01|          210|           2|         3|      202|        7|       1|        0|       0|         0|[210.0,2.0,3.0,20...|\n",
      "|246675545449582_1...|      photo|   4/9/2018 2:06|          222|           4|         0|      213|        5|       4|        0|       0|         0|[222.0,4.0,0.0,21...|\n",
      "|246675545449582_1...|      photo|   4/8/2018 5:10|          313|           4|         2|      305|        6|       2|        0|       0|         0|[313.0,4.0,2.0,30...|\n",
      "|246675545449582_1...|      photo|   4/8/2018 2:23|          209|           4|         0|      200|        8|       1|        0|       0|         0|[209.0,4.0,0.0,20...|\n",
      "|246675545449582_1...|      photo|   4/5/2018 9:23|          346|          11|         0|      335|       10|       1|        0|       0|         0|[346.0,11.0,0.0,3...|\n",
      "|246675545449582_1...|      video|   4/1/2018 5:16|          332|         100|        30|      303|       23|       1|        5|       0|         0|[332.0,100.0,30.0...|\n",
      "|246675545449582_1...|      video|  3/30/2018 8:28|          135|         256|        79|      117|       18|       0|        0|       0|         0|[135.0,256.0,79.0...|\n",
      "|246675545449582_1...|      video|  3/26/2018 8:28|          150|         173|        47|      132|       16|       1|        0|       1|         0|[150.0,173.0,47.0...|\n",
      "|246675545449582_1...|      video|  3/23/2018 7:09|          221|         166|        36|      192|       28|       0|        1|       0|         0|[221.0,166.0,36.0...|\n",
      "|246675545449582_1...|      photo|  3/22/2018 1:25|          152|           2|         0|      149|        3|       0|        0|       0|         0|(9,[0,1,3,4],[152...|\n",
      "+--------------------+-----------+----------------+-------------+------------+----------+---------+---------+--------+---------+--------+----------+--------------------+\n",
      "only showing top 20 rows\n",
      "\n"
     ]
    }
   ],
   "source": [
    "from pyspark.ml.feature import VectorAssembler\n",
    "\n",
    "assemble = VectorAssembler(inputCols=['num_reactions',\n",
    " 'num_comments',\n",
    " 'num_shares',\n",
    " 'num_likes',\n",
    " 'num_loves',\n",
    " 'num_wows',\n",
    " 'num_hahas',\n",
    " 'num_sads',\n",
    " 'num_angrys'],outputCol='independent features')\n",
    "assembled_data = assemble.transform(h)\n",
    "assembled_data.show()"
   ]
  },
  {
   "cell_type": "code",
   "execution_count": 74,
   "metadata": {},
   "outputs": [
    {
     "name": "stdout",
     "output_type": "stream",
     "text": [
      "+--------------------+-----------+----------------+-------------+------------+----------+---------+---------+--------+---------+--------+----------+--------------------+--------------------+\n",
      "|           status_id|status_type|status_published|num_reactions|num_comments|num_shares|num_likes|num_loves|num_wows|num_hahas|num_sads|num_angrys|independent features|        standardized|\n",
      "+--------------------+-----------+----------------+-------------+------------+----------+---------+---------+--------+---------+--------+----------+--------------------+--------------------+\n",
      "|246675545449582_1...|      video|  4/22/2018 6:00|          529|         512|       262|      432|       92|       3|        1|       1|         0|[529.0,512.0,262....|[1.14347397246561...|\n",
      "|246675545449582_1...|      photo| 4/21/2018 22:45|          150|           0|         0|      150|        0|       0|        0|       0|         0|(9,[0,3],[150.0,1...|(9,[0,3],[0.32423...|\n",
      "|246675545449582_1...|      video|  4/21/2018 6:17|          227|         236|        57|      204|       21|       1|        1|       0|         0|[227.0,236.0,57.0...|[0.49067786720169...|\n",
      "|246675545449582_1...|      photo|  4/21/2018 2:29|          111|           0|         0|      111|        0|       0|        0|       0|         0|(9,[0,3],[111.0,1...|(9,[0,3],[0.23993...|\n",
      "|246675545449582_1...|      photo|  4/18/2018 3:22|          213|           0|         0|      204|        9|       0|        0|       0|         0|(9,[0,3,4],[213.0...|(9,[0,3,4],[0.460...|\n",
      "|246675545449582_1...|      photo|  4/18/2018 2:14|          217|           6|         0|      211|        5|       1|        0|       0|         0|[217.0,6.0,0.0,21...|[0.46906210212672...|\n",
      "|246675545449582_1...|      video|  4/18/2018 0:24|          503|         614|        72|      418|       70|      10|        2|       0|         3|[503.0,614.0,72.0...|[1.08727298327071...|\n",
      "|246675545449582_1...|      video|  4/17/2018 7:42|          295|         453|        53|      260|       32|       1|        1|       0|         1|[295.0,453.0,53.0...|[0.63766506971145...|\n",
      "|246675545449582_1...|      photo|  4/17/2018 3:33|          203|           1|         0|      198|        5|       0|        0|       0|         0|(9,[0,1,3,4],[203...|(9,[0,1,3,4],[0.4...|\n",
      "|246675545449582_1...|      photo|  4/11/2018 4:53|          170|           9|         1|      167|        3|       0|        0|       0|         0|[170.0,9.0,1.0,16...|[0.36746800627439...|\n",
      "|246675545449582_1...|      photo|  4/10/2018 1:01|          210|           2|         3|      202|        7|       1|        0|       0|         0|[210.0,2.0,3.0,20...|[0.45393106657425...|\n",
      "|246675545449582_1...|      photo|   4/9/2018 2:06|          222|           4|         0|      213|        5|       4|        0|       0|         0|[222.0,4.0,0.0,21...|[0.47986998466421...|\n",
      "|246675545449582_1...|      photo|   4/8/2018 5:10|          313|           4|         2|      305|        6|       2|        0|       0|         0|[313.0,4.0,2.0,30...|[0.67657344684638...|\n",
      "|246675545449582_1...|      photo|   4/8/2018 2:23|          209|           4|         0|      200|        8|       1|        0|       0|         0|[209.0,4.0,0.0,20...|[0.45176949006675...|\n",
      "|246675545449582_1...|      photo|   4/5/2018 9:23|          346|          11|         0|      335|       10|       1|        0|       0|         0|[346.0,11.0,0.0,3...|[0.74790547159377...|\n",
      "|246675545449582_1...|      video|   4/1/2018 5:16|          332|         100|        30|      303|       23|       1|        5|       0|         0|[332.0,100.0,30.0...|[0.71764340048881...|\n",
      "|246675545449582_1...|      video|  3/30/2018 8:28|          135|         256|        79|      117|       18|       0|        0|       0|         0|[135.0,256.0,79.0...|[0.29181282851202...|\n",
      "|246675545449582_1...|      video|  3/26/2018 8:28|          150|         173|        47|      132|       16|       1|        0|       1|         0|[150.0,173.0,47.0...|[0.32423647612446...|\n",
      "|246675545449582_1...|      video|  3/23/2018 7:09|          221|         166|        36|      192|       28|       0|        1|       0|         0|[221.0,166.0,36.0...|[0.47770840815671...|\n",
      "|246675545449582_1...|      photo|  3/22/2018 1:25|          152|           2|         0|      149|        3|       0|        0|       0|         0|(9,[0,1,3,4],[152...|(9,[0,1,3,4],[0.3...|\n",
      "+--------------------+-----------+----------------+-------------+------------+----------+---------+---------+--------+---------+--------+----------+--------------------+--------------------+\n",
      "only showing top 20 rows\n",
      "\n"
     ]
    }
   ],
   "source": [
    "scale = StandardScaler(inputCol='independent features', outputCol=\"standardized\")\n",
    "data_scale = scale.fit(assembled_data)\n",
    "data_scale_output = data_scale.transform(assembled_data)\n",
    "data_scale_output.show()"
   ]
  },
  {
   "cell_type": "code",
   "execution_count": 75,
   "metadata": {},
   "outputs": [
    {
     "name": "stdout",
     "output_type": "stream",
     "text": [
      "Silhouette Score: 0.9088294365792938\n",
      "Silhouette Score: 0.8459717007099314\n",
      "Silhouette Score: 0.846742163785216\n",
      "Silhouette Score: 0.7893593487914574\n",
      "Silhouette Score: 0.7983369724450986\n",
      "Silhouette Score: 0.7997758442741595\n",
      "Silhouette Score: 0.8028143500519963\n",
      "Silhouette Score: 0.8020970449920696\n"
     ]
    }
   ],
   "source": [
    "silhouette_score=[]\n",
    "evaluator = ClusteringEvaluator(predictionCol=\"prediction\", featuresCol='standardized', metricName='silhouette',distanceMeasure=\"squaredEuclidean\")\n",
    "\n",
    "for i in range(2,10):\n",
    "    \n",
    "    KMeans_algo=KMeans(featuresCol='standardized', k=i)\n",
    "    \n",
    "    KMeans_fit=KMeans_algo.fit(data_scale_output)\n",
    "    \n",
    "    output=KMeans_fit.transform(data_scale_output)\n",
    "    \n",
    "    \n",
    "    \n",
    "    score=evaluator.evaluate(output)\n",
    "    \n",
    "    silhouette_score.append(score)\n",
    "    \n",
    "    print(\"Silhouette Score:\",score)"
   ]
  },
  {
   "cell_type": "code",
   "execution_count": 77,
   "metadata": {},
   "outputs": [
    {
     "data": {
      "text/plain": [
       "Text(0, 0.5, 'cost')"
      ]
     },
     "execution_count": 77,
     "metadata": {},
     "output_type": "execute_result"
    },
    {
     "data": {
      "image/png": "[encoded data removed]",
      "text/plain": [
       "<Figure size 576x432 with 1 Axes>"
      ]
     },
     "metadata": {
      "needs_background": "light"
     },
     "output_type": "display_data"
    }
   ],
   "source": [
    "fig, ax = plt.subplots(1,1, figsize =(8,6))\n",
    "ax.plot(range(2,10),silhouette_score)\n",
    "ax.set_xlabel('k')\n",
    "ax.set_ylabel('cost')"
   ]
  },
  {
   "cell_type": "code",
   "execution_count": 78,
   "metadata": {},
   "outputs": [
    {
     "name": "stdout",
     "output_type": "stream",
     "text": [
      "+--------------------+-----------+----------------+-------------+------------+----------+---------+---------+--------+---------+--------+----------+--------------------+--------------------+----------+\n",
      "|           status_id|status_type|status_published|num_reactions|num_comments|num_shares|num_likes|num_loves|num_wows|num_hahas|num_sads|num_angrys|independent features|        standardized|prediction|\n",
      "+--------------------+-----------+----------------+-------------+------------+----------+---------+---------+--------+---------+--------+----------+--------------------+--------------------+----------+\n",
      "|246675545449582_1...|      video|  4/22/2018 6:00|          529|         512|       262|      432|       92|       3|        1|       1|         0|[529.0,512.0,262....|[1.14347397246561...|         0|\n",
      "|246675545449582_1...|      photo| 4/21/2018 22:45|          150|           0|         0|      150|        0|       0|        0|       0|         0|(9,[0,3],[150.0,1...|(9,[0,3],[0.32423...|         0|\n",
      "|246675545449582_1...|      video|  4/21/2018 6:17|          227|         236|        57|      204|       21|       1|        1|       0|         0|[227.0,236.0,57.0...|[0.49067786720169...|         0|\n",
      "|246675545449582_1...|      photo|  4/21/2018 2:29|          111|           0|         0|      111|        0|       0|        0|       0|         0|(9,[0,3],[111.0,1...|(9,[0,3],[0.23993...|         0|\n",
      "|246675545449582_1...|      photo|  4/18/2018 3:22|          213|           0|         0|      204|        9|       0|        0|       0|         0|(9,[0,3,4],[213.0...|(9,[0,3,4],[0.460...|         0|\n",
      "|246675545449582_1...|      photo|  4/18/2018 2:14|          217|           6|         0|      211|        5|       1|        0|       0|         0|[217.0,6.0,0.0,21...|[0.46906210212672...|         0|\n",
      "|246675545449582_1...|      video|  4/18/2018 0:24|          503|         614|        72|      418|       70|      10|        2|       0|         3|[503.0,614.0,72.0...|[1.08727298327071...|         3|\n",
      "|246675545449582_1...|      video|  4/17/2018 7:42|          295|         453|        53|      260|       32|       1|        1|       0|         1|[295.0,453.0,53.0...|[0.63766506971145...|         0|\n",
      "|246675545449582_1...|      photo|  4/17/2018 3:33|          203|           1|         0|      198|        5|       0|        0|       0|         0|(9,[0,1,3,4],[203...|(9,[0,1,3,4],[0.4...|         0|\n",
      "|246675545449582_1...|      photo|  4/11/2018 4:53|          170|           9|         1|      167|        3|       0|        0|       0|         0|[170.0,9.0,1.0,16...|[0.36746800627439...|         0|\n",
      "|246675545449582_1...|      photo|  4/10/2018 1:01|          210|           2|         3|      202|        7|       1|        0|       0|         0|[210.0,2.0,3.0,20...|[0.45393106657425...|         0|\n",
      "|246675545449582_1...|      photo|   4/9/2018 2:06|          222|           4|         0|      213|        5|       4|        0|       0|         0|[222.0,4.0,0.0,21...|[0.47986998466421...|         0|\n",
      "|246675545449582_1...|      photo|   4/8/2018 5:10|          313|           4|         2|      305|        6|       2|        0|       0|         0|[313.0,4.0,2.0,30...|[0.67657344684638...|         0|\n",
      "|246675545449582_1...|      photo|   4/8/2018 2:23|          209|           4|         0|      200|        8|       1|        0|       0|         0|[209.0,4.0,0.0,20...|[0.45176949006675...|         0|\n",
      "|246675545449582_1...|      photo|   4/5/2018 9:23|          346|          11|         0|      335|       10|       1|        0|       0|         0|[346.0,11.0,0.0,3...|[0.74790547159377...|         0|\n",
      "|246675545449582_1...|      video|   4/1/2018 5:16|          332|         100|        30|      303|       23|       1|        5|       0|         0|[332.0,100.0,30.0...|[0.71764340048881...|         0|\n",
      "|246675545449582_1...|      video|  3/30/2018 8:28|          135|         256|        79|      117|       18|       0|        0|       0|         0|[135.0,256.0,79.0...|[0.29181282851202...|         0|\n",
      "|246675545449582_1...|      video|  3/26/2018 8:28|          150|         173|        47|      132|       16|       1|        0|       1|         0|[150.0,173.0,47.0...|[0.32423647612446...|         0|\n",
      "|246675545449582_1...|      video|  3/23/2018 7:09|          221|         166|        36|      192|       28|       0|        1|       0|         0|[221.0,166.0,36.0...|[0.47770840815671...|         0|\n",
      "|246675545449582_1...|      photo|  3/22/2018 1:25|          152|           2|         0|      149|        3|       0|        0|       0|         0|(9,[0,1,3,4],[152...|(9,[0,1,3,4],[0.3...|         0|\n",
      "+--------------------+-----------+----------------+-------------+------------+----------+---------+---------+--------+---------+--------+----------+--------------------+--------------------+----------+\n",
      "only showing top 20 rows\n",
      "\n"
     ]
    }
   ],
   "source": [
    "KMeans_algo=KMeans(featuresCol='standardized', k=4)\n",
    "    \n",
    "KMeans_fit=KMeans_algo.fit(data_scale_output)\n",
    "\n",
    "output=KMeans_fit.transform(data_scale_output)\n",
    "output.show()"
   ]
  },
  {
   "cell_type": "code",
   "execution_count": null,
   "metadata": {},
   "outputs": [],
   "source": []
  }
 ],
 "metadata": {
  "kernelspec": {
   "display_name": "Python 3",
   "language": "python",
   "name": "python3"
  },
  "language_info": {
   "codemirror_mode": {
    "name": "ipython",
    "version": 3
   },
   "file_extension": ".py",
   "mimetype": "text/x-python",
   "name": "python",
   "nbconvert_exporter": "python",
   "pygments_lexer": "ipython3",
   "version": "3.8.3"
  }
 },
 "nbformat": 4,
 "nbformat_minor": 5
}
