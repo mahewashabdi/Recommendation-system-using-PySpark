{
 "cells": [
  {
   "cell_type": "code",
   "execution_count": 2,
   "metadata": {
    "colab": {
     "base_uri": "https://localhost:8080/"
    },
    "id": "qbgNAvoJ2HH-",
    "outputId": "b42ee7f0-fb31-4b68-eed1-3f42902f1484"
   },
   "outputs": [
    {
     "name": "stdout",
     "output_type": "stream",
     "text": [
      "Collecting pyspark\n",
      "  Downloading pyspark-3.1.2.tar.gz (212.4 MB)\n",
      "\u001b[K     |████████████████████████████████| 212.4 MB 62 kB/s \n",
      "\u001b[?25hCollecting py4j==0.10.9\n",
      "  Downloading py4j-0.10.9-py2.py3-none-any.whl (198 kB)\n",
      "\u001b[K     |████████████████████████████████| 198 kB 59.8 MB/s \n",
      "\u001b[?25hBuilding wheels for collected packages: pyspark\n",
      "  Building wheel for pyspark (setup.py) ... \u001b[?25l\u001b[?25hdone\n",
      "  Created wheel for pyspark: filename=pyspark-3.1.2-py2.py3-none-any.whl size=212880768 sha256=ea2a9221661019d31d0e9667d0e12dc1536851456cdf364249c2c21865a7261a\n",
      "  Stored in directory: /root/.cache/pip/wheels/a5/0a/c1/9561f6fecb759579a7d863dcd846daaa95f598744e71b02c77\n",
      "Successfully built pyspark\n",
      "Installing collected packages: py4j, pyspark\n",
      "Successfully installed py4j-0.10.9 pyspark-3.1.2\n"
     ]
    }
   ],
   "source": [
    "!pip install pyspark\n",
    "from pyspark.sql.types import StructType,StructField,IntegerType,StringType,LongType\n",
    "from pyspark.sql.functions import col"
   ]
  },
  {
   "cell_type": "code",
   "execution_count": 3,
   "metadata": {
    "id": "GDsmbeNQ2CHA"
   },
   "outputs": [],
   "source": [
    "# import libraries\n",
    "from pyspark import SparkContext\n",
    "from pyspark.ml.recommendation import ALS\n",
    "from pyspark.sql import SparkSession ,Row\n",
    "appName=\"Collaborative Filtering with PySpark\"\n",
    "# initialize the spark session\n",
    "spark = SparkSession.builder.appName(appName).getOrCreate()\n",
    "# get sparkcontext from the sparksession\n",
    "sc = spark.sparkContext\n"
   ]
  },
  {
   "cell_type": "code",
   "execution_count": null,
   "metadata": {
    "id": "QS9pF1QP2JfJ",
    "outputId": "79e6b3cb-7b0e-44d8-ae67-8d177c4704f6"
   },
   "outputs": [
    {
     "data": {
      "text/plain": [
       "'def parser(s, delimeters=\" \", to_int=None):\\n    s = s.split(delimeters)\\n    if to_int:\\n        return tuple([int(s[i]) if i in to_int else s[i] for i in range(len(s))])\\n    return tuple(s)\\n\\nartistData = sc.textFile(\"artist_data_small.txt\").map(lambda x: parser(x,\\'\\t\\',[0]))\\n\\nartistAlias = sc.textFile(\"artist_alias_small.txt\").map(lambda x: parser(x,\\'\\t\\', [0,1]))\\n\\nartistAliasMap = artistAlias.collectAsMap()\\n\\nuserArtistData = sc.textFile(\"user_artist_data_small.txt\").map(lambda x: parser(x,\\' \\',[0,1,2]))\\n\\nuserArtistData = userArtistData.map(lambda x: (x[0], artistAliasMap.get(x[1], x[1]), x[2]))'"
      ]
     },
     "execution_count": 72,
     "metadata": {},
     "output_type": "execute_result"
    }
   ],
   "source": [
    "'''def parser(s, delimeters=\" \", to_int=None):\n",
    "    s = s.split(delimeters)\n",
    "    if to_int:\n",
    "        return tuple([int(s[i]) if i in to_int else s[i] for i in range(len(s))])\n",
    "    return tuple(s)\n",
    "\n",
    "artistData = sc.textFile(\"artist_data_small.txt\").map(lambda x: parser(x,'\\t',[0]))\n",
    "\n",
    "artistAlias = sc.textFile(\"artist_alias_small.txt\").map(lambda x: parser(x,'\\t', [0,1]))\n",
    "\n",
    "artistAliasMap = artistAlias.collectAsMap()\n",
    "\n",
    "userArtistData = sc.textFile(\"user_artist_data_small.txt\").map(lambda x: parser(x,' ',[0,1,2]))\n",
    "\n",
    "userArtistData = userArtistData.map(lambda x: (x[0], artistAliasMap.get(x[1], x[1]), x[2]))'''"
   ]
  },
  {
   "cell_type": "code",
   "execution_count": 4,
   "metadata": {
    "id": "TE9aEbl22K_c"
   },
   "outputs": [],
   "source": [
    "#Define the schema for the datasets\n",
    "schema_artist = StructType([StructField(\"artistId\",StringType(),True),StructField(\"artistName\",StringType(),True)])\n",
    "schema_user_artist = StructType([StructField(\"userId\",StringType(),True),StructField(\"artistId\",StringType(),True),StructField(\"playCount\",StringType(),True)])\n",
    "schema_alias = StructType([StructField(\"badId\",StringType(),True),StructField(\"goodId\",StringType(),True)])"
   ]
  },
  {
   "cell_type": "code",
   "execution_count": 5,
   "metadata": {
    "id": "Jt14x5zV2Qsw"
   },
   "outputs": [],
   "source": [
    "#Convert RDDs into Dataframes\n",
    "from pyspark.sql.types import DoubleType\n",
    "artistRDD = sc.textFile(\"artist_data_small.txt\").map(lambda k: k.split(\"\\t\"))\n",
    "#artistRDD.collect()\n",
    "artist_df = spark.createDataFrame(artistRDD,schema_artist)\n",
    "artist_df = artist_df.withColumn(\"artistId\", artist_df[\"artistId\"].cast(DoubleType()))\n",
    "\n",
    "userArtistRDD = sc.textFile(\"user_artist_data_small.txt\").map(lambda k: k.split())\n",
    "user_artist_df = spark.createDataFrame(userArtistRDD,schema_user_artist)\n",
    "\n",
    "user_artist_df = user_artist_df.withColumn(\"userId\", user_artist_df[\"userId\"].cast(DoubleType()))\n",
    "user_artist_df = user_artist_df.withColumn(\"artistId\", user_artist_df[\"artistId\"].cast(DoubleType()))\n",
    "user_artist_df = user_artist_df.withColumn(\"playCount\", user_artist_df[\"playCount\"].cast(DoubleType()))\n",
    "#user_artist_df.printSchema()\n",
    "\n",
    "aliasRDD = sc.textFile(\"artist_alias_small.txt\").map(lambda k: k.split())\n",
    "#aliasRDD.collect()\n",
    "alias_df = spark.createDataFrame(aliasRDD,schema_alias)\n",
    "#alias_df.show()"
   ]
  },
  {
   "cell_type": "code",
   "execution_count": 6,
   "metadata": {
    "id": "3VklC2dj26j4"
   },
   "outputs": [],
   "source": [
    "# #First for convenience, we can create aliases for each dataframes\n",
    "ua = user_artist_df.alias('ua')\n",
    "ub = artist_df.alias('ub')"
   ]
  },
  {
   "cell_type": "code",
   "execution_count": 7,
   "metadata": {
    "id": "fGyhG9rjMsav"
   },
   "outputs": [],
   "source": [
    "# dataset split into training and testing set\n",
    "(training, test) = user_artist_df.randomSplit([0.8, 0.2])"
   ]
  },
  {
   "cell_type": "code",
   "execution_count": 8,
   "metadata": {
    "colab": {
     "base_uri": "https://localhost:8080/"
    },
    "id": "3d_uErWWzRW-",
    "outputId": "6a9a6c9d-9440-456a-c177-12911a39745a"
   },
   "outputs": [
    {
     "name": "stdout",
     "output_type": "stream",
     "text": [
      "+---------+--------+---------+\n",
      "|   userId|artistId|playCount|\n",
      "+---------+--------+---------+\n",
      "|1001440.0|     2.0|   1541.0|\n",
      "|1001440.0|     3.0|      6.0|\n",
      "|1001440.0|     4.0|     24.0|\n",
      "|1001440.0|    16.0|      6.0|\n",
      "|1001440.0|    17.0|    601.0|\n",
      "|1001440.0|    18.0|    185.0|\n",
      "|1001440.0|    23.0|      2.0|\n",
      "|1001440.0|    28.0|      5.0|\n",
      "|1001440.0|    33.0|    263.0|\n",
      "|1001440.0|    34.0|      5.0|\n",
      "|1001440.0|    40.0|     35.0|\n",
      "|1001440.0|    53.0|     40.0|\n",
      "|1001440.0|    59.0|      6.0|\n",
      "|1001440.0|    61.0|      1.0|\n",
      "|1001440.0|    67.0|      4.0|\n",
      "|1001440.0|    69.0|      1.0|\n",
      "|1001440.0|    70.0|      1.0|\n",
      "|1001440.0|    78.0|     34.0|\n",
      "|1001440.0|    82.0|    189.0|\n",
      "|1001440.0|    83.0|   1241.0|\n",
      "+---------+--------+---------+\n",
      "only showing top 20 rows\n",
      "\n"
     ]
    }
   ],
   "source": [
    "training.show()"
   ]
  },
  {
   "cell_type": "code",
   "execution_count": 9,
   "metadata": {
    "id": "6IHuUeLyM1XY"
   },
   "outputs": [],
   "source": [
    "# training the model\n",
    "als = ALS(maxIter=5, implicitPrefs=True,userCol=\"userId\", itemCol=\"artistId\", ratingCol=\"playCount\",coldStartStrategy=\"drop\")\n",
    "model = als.fit(training)"
   ]
  },
  {
   "cell_type": "code",
   "execution_count": 10,
   "metadata": {
    "colab": {
     "base_uri": "https://localhost:8080/"
    },
    "id": "qhKCmmX2NCY6",
    "outputId": "c43a56c9-d47c-48d6-e4c6-2423bae52f90"
   },
   "outputs": [
    {
     "name": "stdout",
     "output_type": "stream",
     "text": [
      "+---------+---------+---------+------------+\n",
      "|   userId| artistId|playCount|  prediction|\n",
      "+---------+---------+---------+------------+\n",
      "|1041919.0|    463.0|     50.0|   1.5923305|\n",
      "|2010008.0|    463.0|    308.0|   1.3008757|\n",
      "|1058890.0|    463.0|    934.0|  0.27522913|\n",
      "|1031009.0|    463.0|      4.0|   1.2485688|\n",
      "|1046559.0|    833.0|    126.0|   0.5753089|\n",
      "|1072684.0|   3175.0|     45.0|-0.041159123|\n",
      "|1024631.0|1001129.0|    199.0|   0.8766138|\n",
      "|1058890.0|1001129.0|     88.0| -0.36416078|\n",
      "|1059334.0|1004552.0|      1.0| -0.35229862|\n",
      "|2023686.0|1007972.0|      1.0|  0.64261746|\n",
      "|2010008.0|1007972.0|      3.0|-0.117314674|\n",
      "|1026084.0|1007972.0|    103.0| -0.65539455|\n",
      "|1024631.0|1009031.0|      2.0|  0.06666491|\n",
      "|2010008.0|1009031.0|      4.0|  0.04065971|\n",
      "|1063644.0|1009031.0|    100.0|  0.35704744|\n",
      "|2023686.0|1014191.0|      3.0|  0.39541107|\n",
      "|1017610.0|1019303.0|     68.0| 0.036941003|\n",
      "|1024631.0|1028228.0|      1.0|  0.14603704|\n",
      "|1070641.0|1029443.0|      5.0|  0.35517526|\n",
      "|1059637.0|1048726.0|      1.0|  0.05961255|\n",
      "+---------+---------+---------+------------+\n",
      "only showing top 20 rows\n",
      "\n"
     ]
    }
   ],
   "source": [
    "# predict using the testing datatset\n",
    "predictions = model.transform(test)\n",
    "predictions.show()"
   ]
  },
  {
   "cell_type": "code",
   "execution_count": 11,
   "metadata": {
    "id": "GloNp2yJzRW_"
   },
   "outputs": [],
   "source": [
    "def currentLikes(ua,ub,userId,limit):\n",
    " df = ua.join(ub,ua.artistId==ub.artistId)\\\n",
    " .filter(ua.userId==userId)\\\n",
    " .sort(ua.playCount.desc())\\\n",
    " .select(ua.userId,ua.playCount,ub.artistName)\\\n",
    " .limit(limit)\n",
    " return df"
   ]
  },
  {
   "cell_type": "code",
   "execution_count": 42,
   "metadata": {
    "colab": {
     "base_uri": "https://localhost:8080/"
    },
    "id": "nJeebM8QzRXA",
    "outputId": "738fa3d1-02ae-4b03-847b-c7e74650fc2c"
   },
   "outputs": [
    {
     "name": "stdout",
     "output_type": "stream",
     "text": [
      "+---------+-------------------+\n",
      "|artistId |artistName         |\n",
      "+---------+-------------------+\n",
      "|1005975.0|Dimmu Borgir       |\n",
      "|4061.0   |Marilyn Manson     |\n",
      "|2823.0   |Alanis Morissette  |\n",
      "|1000639.0|Alice in Chains    |\n",
      "|1295531.0|菅野よう子         |\n",
      "|1002128.0|Taking Back Sunday |\n",
      "|1010512.0|Shivaree           |\n",
      "|1004421.0|KMFDM              |\n",
      "|1004303.0|Front Line Assembly|\n",
      "|1001828.0|A Flock Of Seagulls|\n",
      "+---------+-------------------+\n",
      "\n"
     ]
    }
   ],
   "source": [
    "def recommendedArtists(userId,limit):\n",
    "  test =  model.recommendForAllUsers(limit).filter(col('userId')==userId).select(\"recommendations\").collect()\n",
    "  topArtists = []\n",
    "  for item in test[0][0]:\n",
    "    topArtists.append(item.artistId)\n",
    "\n",
    "    schema = StructType([StructField(\"artistId\",IntegerType(),True)])\n",
    "    artists = spark.createDataFrame(topArtists,IntegerType())\n",
    "  final=artists.join(ub,artists.value==ub.artistId).select(ub.artistId,ub.artistName)\n",
    "  \n",
    "  return final\n",
    "# display top 10 recommended artists for user 2062243\n",
    "recommendedArtists(2062243,10).show(truncate=False)"
   ]
  },
  {
   "cell_type": "markdown",
   "metadata": {},
   "source": [
    "### EXTRA SECTION "
   ]
  },
  {
   "cell_type": "code",
   "execution_count": 26,
   "metadata": {
    "id": "dwxGvVXBTO-x"
   },
   "outputs": [],
   "source": [
    "test =  model.recommendForAllUsers(5).filter(col('userId')==2023686).select(\"recommendations\").collect()\n",
    "topArtists = []\n",
    "for item in test[0][0]:\n",
    "  topArtists.append(item.artistId)\n",
    "\n",
    "  schema = StructType([StructField(\"artistId\",IntegerType(),True)])\n",
    "  artists = spark.createDataFrame(topArtists,IntegerType())\n",
    "  final=artists.join(ub,artists.value==ub.artistId).select(ub.artistId,ub.artistName)"
   ]
  },
  {
   "cell_type": "code",
   "execution_count": 33,
   "metadata": {
    "colab": {
     "base_uri": "https://localhost:8080/"
    },
    "id": "iNcvl6cATbgX",
    "outputId": "9f991825-febd-411d-b5be-327f3def5adb"
   },
   "outputs": [
    {
     "data": {
      "text/plain": [
       "[Row(recommendations=[Row(artistId=1004296, rating=2.880728006362915), Row(artistId=1001487, rating=1.8751674890518188), Row(artistId=1002370, rating=1.7512781620025635), Row(artistId=1854, rating=1.6419439315795898), Row(artistId=1000175, rating=1.635480523109436), Row(artistId=1002704, rating=1.6224923133850098), Row(artistId=1004294, rating=1.602113962173462), Row(artistId=1002404, rating=1.5717946290969849), Row(artistId=1319, rating=1.4135123491287231), Row(artistId=1006034, rating=1.401442527770996)])]"
      ]
     },
     "execution_count": 33,
     "metadata": {},
     "output_type": "execute_result"
    }
   ],
   "source": [
    "model.recommendForAllUsers(10).filter(col('userId')==2007381).select(\"recommendations\").collect()"
   ]
  },
  {
   "cell_type": "code",
   "execution_count": 34,
   "metadata": {
    "id": "dQ3FSgadTr0A"
   },
   "outputs": [],
   "source": [
    "test=model.recommendForAllUsers(5).filter(col('userId')==2007381).select(\"recommendations\").collect()"
   ]
  },
  {
   "cell_type": "code",
   "execution_count": 71,
   "metadata": {
    "colab": {
     "base_uri": "https://localhost:8080/"
    },
    "id": "2QiK3VtGZt8v",
    "outputId": "7e26e269-66c4-44a3-f695-f95b731c2fbc"
   },
   "outputs": [
    {
     "data": {
      "text/plain": [
       "[Row(recommendations=[Row(artistId=1004296, rating=2.880728006362915), Row(artistId=1001487, rating=1.8751674890518188), Row(artistId=1002370, rating=1.7512781620025635), Row(artistId=1854, rating=1.6419439315795898), Row(artistId=1000175, rating=1.635480523109436)])]"
      ]
     },
     "execution_count": 71,
     "metadata": {},
     "output_type": "execute_result"
    }
   ],
   "source": [
    "test"
   ]
  },
  {
   "cell_type": "code",
   "execution_count": 69,
   "metadata": {
    "colab": {
     "base_uri": "https://localhost:8080/"
    },
    "id": "G0kT4faiUP6H",
    "outputId": "708f6ff2-ff3c-4073-a7f4-e62a67101bfe"
   },
   "outputs": [
    {
     "data": {
      "text/plain": [
       "Row(recommendations=[Row(artistId=1004296, rating=2.880728006362915), Row(artistId=1001487, rating=1.8751674890518188), Row(artistId=1002370, rating=1.7512781620025635), Row(artistId=1854, rating=1.6419439315795898), Row(artistId=1000175, rating=1.635480523109436)])"
      ]
     },
     "execution_count": 69,
     "metadata": {},
     "output_type": "execute_result"
    }
   ],
   "source": [
    "test[0]"
   ]
  },
  {
   "cell_type": "code",
   "execution_count": 74,
   "metadata": {
    "colab": {
     "base_uri": "https://localhost:8080/"
    },
    "id": "ygHTCYv_Z3ry",
    "outputId": "ba33978c-ba83-4cad-a135-a5b742deb6e2"
   },
   "outputs": [
    {
     "data": {
      "text/plain": [
       "[Row(artistId=1004296, rating=2.880728006362915),\n",
       " Row(artistId=1001487, rating=1.8751674890518188),\n",
       " Row(artistId=1002370, rating=1.7512781620025635),\n",
       " Row(artistId=1854, rating=1.6419439315795898),\n",
       " Row(artistId=1000175, rating=1.635480523109436)]"
      ]
     },
     "execution_count": 74,
     "metadata": {},
     "output_type": "execute_result"
    }
   ],
   "source": [
    "test[0][0]"
   ]
  },
  {
   "cell_type": "code",
   "execution_count": 44,
   "metadata": {
    "id": "6ecM8jisUtKy"
   },
   "outputs": [],
   "source": [
    "for i in test[0][0]:\n",
    "  topArtists.append(item.artistId)\n",
    "  schema = StructType([StructField(\"artistId\",IntegerType(),True)])\n",
    "  artists = spark.createDataFrame(topArtists,IntegerType())"
   ]
  },
  {
   "cell_type": "code",
   "execution_count": 48,
   "metadata": {
    "id": "2clZkV3JWFoz"
   },
   "outputs": [],
   "source": [
    "final=artists.join(ub,artists.value==ub.artistId).select(ub.artistId,ub.artistName)"
   ]
  },
  {
   "cell_type": "code",
   "execution_count": 49,
   "metadata": {
    "colab": {
     "base_uri": "https://localhost:8080/"
    },
    "id": "-3ISMWWiU8Xg",
    "outputId": "21845501-7e9e-473c-f0c8-27790c726643"
   },
   "outputs": [
    {
     "name": "stdout",
     "output_type": "stream",
     "text": [
      "+---------+-------------------+\n",
      "| artistId|         artistName|\n",
      "+---------+-------------------+\n",
      "|1001530.0|  The Starting Line|\n",
      "|   1319.0|             Zero 7|\n",
      "|1002095.0|Something Corporate|\n",
      "|   1205.0|                 U2|\n",
      "|1000112.0|      Alkaline Trio|\n",
      "|1000112.0|      Alkaline Trio|\n",
      "|1000112.0|      Alkaline Trio|\n",
      "|1000112.0|      Alkaline Trio|\n",
      "|1000112.0|      Alkaline Trio|\n",
      "|1000112.0|      Alkaline Trio|\n",
      "|1000112.0|      Alkaline Trio|\n",
      "|1000112.0|      Alkaline Trio|\n",
      "|1000112.0|      Alkaline Trio|\n",
      "|1000112.0|      Alkaline Trio|\n",
      "|1000112.0|      Alkaline Trio|\n",
      "+---------+-------------------+\n",
      "\n"
     ]
    }
   ],
   "source": [
    "final.show()"
   ]
  },
  {
   "cell_type": "code",
   "execution_count": 41,
   "metadata": {
    "colab": {
     "base_uri": "https://localhost:8080/"
    },
    "id": "cABs41FwVtt-",
    "outputId": "281df1fc-6722-41f3-a368-891679c545b3"
   },
   "outputs": [
    {
     "name": "stdout",
     "output_type": "stream",
     "text": [
      "+---------+-------------------+\n",
      "| artistId|         artistName|\n",
      "+---------+-------------------+\n",
      "|1001530.0|  The Starting Line|\n",
      "|   1319.0|             Zero 7|\n",
      "|1002095.0|Something Corporate|\n",
      "|   1205.0|                 U2|\n",
      "|1000112.0|      Alkaline Trio|\n",
      "|1000112.0|      Alkaline Trio|\n",
      "|1000112.0|      Alkaline Trio|\n",
      "|1000112.0|      Alkaline Trio|\n",
      "|1000112.0|      Alkaline Trio|\n",
      "|1000112.0|      Alkaline Trio|\n",
      "+---------+-------------------+\n",
      "\n"
     ]
    }
   ],
   "source": [
    "final.show()"
   ]
  }
 ],
 "metadata": {
  "colab": {
   "collapsed_sections": [],
   "name": "Collaborative_Filtering_and_implementation_in_Pyspark.ipynb",
   "provenance": []
  },
  "kernelspec": {
   "display_name": "Python 3",
   "language": "python",
   "name": "python3"
  },
  "language_info": {
   "codemirror_mode": {
    "name": "ipython",
    "version": 3
   },
   "file_extension": ".py",
   "mimetype": "text/x-python",
   "name": "python",
   "nbconvert_exporter": "python",
   "pygments_lexer": "ipython3",
   "version": "3.8.3"
  }
 },
 "nbformat": 4,
 "nbformat_minor": 1
}
